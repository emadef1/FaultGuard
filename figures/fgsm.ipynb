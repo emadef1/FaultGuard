{
 "cells": [
  {
   "cell_type": "code",
   "execution_count": null,
   "metadata": {},
   "outputs": [],
   "source": [
    "import matplotlib.pyplot as plt\n",
    "\n",
    "# Given ASR values for two sets\n",
    "type_gru = [0.618, 0.500, 0.472, 0.451, 0.437, 0.388, 0.347, 0.319, 0.284, 0.201, 0.187]\n",
    "type_mlp = [0.406, 0.119, 0.094, 0.080, 0.060, 0.060, 0.059, 0.058, 0.062, 0.057, 0.055]\n",
    "zone_gru = [0.958, 0.451, 0.381, 0.298, 0.284, 0.270, 0.250, 0.208, 0.201, 0.201, 0.201]\n",
    "zone_mlp = [0.793,0.333, 0.259, 0.206, 0.21, 0.147, 0.136, 0.127, 0.124, 0.124, 0.122]\n",
    "\n",
    "# Create a list of feature numbers starting from one\n",
    "feature_numbers = [0, 0.05, 0.1, 0.15, 0.20, 0.25, 0.30, 0.35, 0.40, 0.45, 0.50]\n",
    "\n",
    "# Plotting the graphs\n",
    "plt.figure(figsize=(5, 3.5))\n",
    "plt.ylim(0, 1.0)\n",
    "plt.plot(feature_numbers, type_gru, marker='o', linestyle='-', color='b', label='GRU (fault type)')\n",
    "plt.plot(feature_numbers, type_mlp, marker='s', linestyle='-', color='royalblue', label='MLP (fault type)')\n",
    "plt.plot(feature_numbers, zone_gru, marker='^', linestyle='-', color='r', label='GRU (fault zone)')  # Different color for set3\n",
    "plt.plot(feature_numbers, zone_mlp, marker='*', linestyle='-', color='tomato', label='MLP (fault zone)')  # Different color for set4\n",
    "# Adding legend\n",
    "plt.legend()\n",
    "\n",
    "plt.xlabel('Epsilon')\n",
    "plt.ylabel('Accuracy')\n",
    "plt.grid(True)\n",
    "plt.tight_layout()\n",
    "plt.savefig('./fgsm.pdf', format='pdf')\n",
    "plt.show()"
   ]
  }
 ],
 "metadata": {
  "kernelspec": {
   "display_name": "base",
   "language": "python",
   "name": "python3"
  },
  "language_info": {
   "codemirror_mode": {
    "name": "ipython",
    "version": 3
   },
   "file_extension": ".py",
   "mimetype": "text/x-python",
   "name": "python",
   "nbconvert_exporter": "python",
   "pygments_lexer": "ipython3",
   "version": "3.11.5"
  }
 },
 "nbformat": 4,
 "nbformat_minor": 2
}
