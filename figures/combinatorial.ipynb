{
  "cells": [
    {
      "cell_type": "code",
      "execution_count": null,
      "metadata": {
        "colab": {
          "base_uri": "https://localhost:8080/",
          "height": 357
        },
        "id": "-kj-dYpAoIRD",
        "outputId": "59c9bad9-249e-4092-dff1-505b9b3b13e1"
      },
      "outputs": [],
      "source": [
        "import matplotlib.pyplot as plt\n",
        "\n",
        "# Define the range of consecutive batches\n",
        "consecutive_batches_range = range(1, 6)  # Adjust the range as needed\n",
        "\n",
        "# Model accuracy\n",
        "type = 0.604\n",
        "\n",
        "# Model accuracy\n",
        "type_ardito = 0.46\n",
        "\n",
        "# Calculate accuracy for each value in the range\n",
        "accuracies = [(1 - (1 - type) ** batches)\n",
        "              for batches in consecutive_batches_range]\n",
        "accuracies_ardito = [(1 - (1 - type_ardito) ** batches)\n",
        "              for batches in consecutive_batches_range]\n",
        "\n",
        "# Create the graph\n",
        "plt.figure(figsize=(5, 3.5))\n",
        "\n",
        "# Plot the first set of data\n",
        "plt.plot(consecutive_batches_range, accuracies, marker='o', label='Ours')\n",
        "\n",
        "# Plot the second set of data\n",
        "plt.plot(consecutive_batches_range, accuracies_ardito, marker='o', label='Ardito et al.')\n",
        "\n",
        "# Add labels and title\n",
        "plt.xlabel('Number of Consecutive Batches')\n",
        "plt.ylabel('Combinatorial Accuracy')\n",
        "plt.grid(True)\n",
        "plt.xticks(consecutive_batches_range)\n",
        "# plt.ylim(0.59, 1.02)\n",
        "plt.legend(loc='lower right')  # Add legend to differentiate between the two sets of data\n",
        "plt.tight_layout()\n",
        "plt.savefig('./combinatorial_type.pdf', format='pdf')\n",
        "plt.show()\n"
      ]
    },
    {
      "cell_type": "code",
      "execution_count": null,
      "metadata": {},
      "outputs": [],
      "source": [
        "# Define the range of consecutive batches\n",
        "consecutive_batches_range = range(1, 6)  # Adjust the range as needed\n",
        "\n",
        "# Model accuracy\n",
        "zone = 0.958\n",
        "\n",
        "# Model accuracy\n",
        "zone_ardito = 0.71\n",
        "\n",
        "# Calculate accuracy for each value in the range\n",
        "accuracies = [(1 - (1 - zone) ** batches)\n",
        "              for batches in consecutive_batches_range]\n",
        "accuracies_ardito = [(1 - (1 - zone_ardito) ** batches)\n",
        "              for batches in consecutive_batches_range]\n",
        "\n",
        "# Create the graph\n",
        "plt.figure(figsize=(5, 3.5))\n",
        "\n",
        "# Plot the first set of data\n",
        "plt.plot(consecutive_batches_range, accuracies, marker='o', label='Ours')\n",
        "\n",
        "# Plot the second set of data\n",
        "plt.plot(consecutive_batches_range, accuracies_ardito, marker='o', label='Ardito et al.')\n",
        "\n",
        "# Add labels and title\n",
        "plt.xlabel('Number of Consecutive Batches')\n",
        "plt.ylabel('Combinatorial Accuracy')\n",
        "plt.grid(True)\n",
        "plt.xticks(consecutive_batches_range)\n",
        "# plt.ylim(0.59, 1.02)\n",
        "plt.legend(loc='lower right')  # Add legend to differentiate between the two sets of data\n",
        "plt.tight_layout()\n",
        "plt.savefig('./combinatorial_zone.pdf', format='pdf')\n",
        "plt.show()"
      ]
    }
  ],
  "metadata": {
    "colab": {
      "provenance": []
    },
    "kernelspec": {
      "display_name": "pytorch",
      "language": "python",
      "name": "python3"
    },
    "language_info": {
      "codemirror_mode": {
        "name": "ipython",
        "version": 3
      },
      "file_extension": ".py",
      "mimetype": "text/x-python",
      "name": "python",
      "nbconvert_exporter": "python",
      "pygments_lexer": "ipython3",
      "version": "3.11.5"
    }
  },
  "nbformat": 4,
  "nbformat_minor": 0
}
