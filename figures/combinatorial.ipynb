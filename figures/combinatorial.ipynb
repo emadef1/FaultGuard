{
  "cells": [
    {
      "cell_type": "code",
      "execution_count": null,
      "metadata": {
        "id": "JYGhBWploIQ_"
      },
      "outputs": [],
      "source": [
        "import matplotlib.pyplot as plt\n",
        "\n",
        "# Define the range of consecutive batches\n",
        "consecutive_batches_range = range(1, 11)  # Adjust the range as needed\n",
        "\n",
        "# Model accuracy\n",
        "accuracy = 0.604\n",
        "\n",
        "# Calculate false positives and false negatives for each value in the range\n",
        "false_positives = [(1 - accuracy) ** batches for batches in consecutive_batches_range]\n",
        "false_negatives = [accuracy ** batches for batches in consecutive_batches_range]\n",
        "\n",
        "# Calculate error rate\n",
        "error_rate = [fp + fn for fp, fn in zip(false_positives, false_negatives)]\n",
        "\n",
        "# Model accuracy\n",
        "accuracy2 = 0.958\n",
        "\n",
        "# Calculate false positives and false negatives for each value in the range\n",
        "false_positives1 = [(1 - accuracy2) ** batches for batches in consecutive_batches_range]\n",
        "false_negatives1 = [accuracy2 ** batches for batches in consecutive_batches_range]\n",
        "\n",
        "# Calculate error rate\n",
        "error_rate1 = [fp + fn for fp, fn in zip(false_positives, false_negatives)]\n"
      ]
    },
    {
      "cell_type": "code",
      "execution_count": null,
      "metadata": {
        "colab": {
          "base_uri": "https://localhost:8080/",
          "height": 357
        },
        "id": "-kj-dYpAoIRD",
        "outputId": "59c9bad9-249e-4092-dff1-505b9b3b13e1"
      },
      "outputs": [],
      "source": [
        "import matplotlib.pyplot as plt\n",
        "\n",
        "# Define the range of consecutive batches\n",
        "consecutive_batches_range = range(1, 6)  # Adjust the range as needed\n",
        "\n",
        "# Calculate accuracy for each value in the range\n",
        "accuracies = [(1 - (1 - accuracy) ** batches)\n",
        "              for batches in consecutive_batches_range]\n",
        "accuracies2 = [(1 - (1 - accuracy2) ** batches)\n",
        "              for batches in consecutive_batches_range]\n",
        "\n",
        "# Create the graph\n",
        "plt.figure(figsize=(5, 3.5))\n",
        "\n",
        "# Plot the first set of data\n",
        "plt.plot(consecutive_batches_range, accuracies, marker='o', label='Fault Type')\n",
        "\n",
        "# Plot the second set of data\n",
        "plt.plot(consecutive_batches_range, accuracies2, marker='o', label='Fault Zone')\n",
        "\n",
        "# Add labels and title\n",
        "plt.xlabel('Number of Consecutive Batches')\n",
        "plt.ylabel('Combinatorial Accuracy of Fault label prediction')\n",
        "plt.grid(True)\n",
        "plt.xticks(consecutive_batches_range)\n",
        "plt.ylim(0.59, 1.02)\n",
        "plt.legend()  # Add legend to differentiate between the two sets of data\n",
        "plt.tight_layout()\n",
        "plt.savefig('Misclassification1.pdf', format='pdf')\n",
        "plt.show()\n"
      ]
    },
    {
      "cell_type": "code",
      "execution_count": null,
      "metadata": {
        "colab": {
          "base_uri": "https://localhost:8080/"
        },
        "id": "aTSRcyMZooEI",
        "outputId": "fa90c540-e679-44b2-d163-e5806244e101"
      },
      "outputs": [],
      "source": [
        "accuracies"
      ]
    },
    {
      "cell_type": "code",
      "execution_count": null,
      "metadata": {
        "colab": {
          "base_uri": "https://localhost:8080/"
        },
        "id": "fuLEJnIS4jFu",
        "outputId": "9d3c1abb-fb69-4b88-ab9c-9e631444c706"
      },
      "outputs": [],
      "source": [
        "accuracies2"
      ]
    },
    {
      "cell_type": "code",
      "execution_count": null,
      "metadata": {
        "colab": {
          "base_uri": "https://localhost:8080/",
          "height": 507
        },
        "id": "A1o0xRqfYeeG",
        "outputId": "2081fb8f-180a-47da-d662-038cac5f5b6d"
      },
      "outputs": [],
      "source": [
        "import matplotlib.pyplot as plt\n",
        "\n",
        "# Training times for each model (replace these with your actual training times)\n",
        "models = ['Fault Type ','Fault Type + defence', 'Fault Zone', 'Fault Zone + defence']\n",
        "training_times = [1.18, 78.9, 1.29, 80]  # Training times in seconds\n",
        "\n",
        "# Plotting\n",
        "plt.figure(figsize=(8, 5))\n",
        "plt.bar(models, training_times, color='skyblue')\n",
        "\n",
        "# Adding labels and title\n",
        "plt.xlabel('Models')\n",
        "plt.ylabel('Training Time (minutes)')\n",
        "plt.title('Training Times of Models with and without defences')\n",
        "\n",
        "# Show the plot\n",
        "plt.xticks(rotation=45)  # Rotate x-axis labels for better readability\n",
        "plt.tight_layout()\n",
        "plt.savefig('trainingtimes.pdf', format='pdf')\n",
        "plt.show()\n"
      ]
    }
  ],
  "metadata": {
    "colab": {
      "provenance": []
    },
    "kernelspec": {
      "display_name": "pytorch",
      "language": "python",
      "name": "python3"
    },
    "language_info": {
      "codemirror_mode": {
        "name": "ipython",
        "version": 3
      },
      "file_extension": ".py",
      "mimetype": "text/x-python",
      "name": "python",
      "nbconvert_exporter": "python",
      "pygments_lexer": "ipython3",
      "version": "3.8.10"
    }
  },
  "nbformat": 4,
  "nbformat_minor": 0
}
